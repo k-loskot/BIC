{
 "cells": [
  {
   "cell_type": "code",
   "execution_count": 1,
   "id": "981f0ed5-26a1-449e-a488-2fc881f5703f",
   "metadata": {},
   "outputs": [
    {
     "name": "stderr",
     "output_type": "stream",
     "text": [
      "C:\\Users\\karlo\\anaconda3\\envs\\tf\\lib\\site-packages\\requests\\__init__.py:86: RequestsDependencyWarning: Unable to find acceptable character detection dependency (chardet or charset_normalizer).\n",
      "  warnings.warn(\n"
     ]
    },
    {
     "name": "stdout",
     "output_type": "stream",
     "text": [
      "2.13.1\n",
      "1.24.3\n"
     ]
    }
   ],
   "source": [
    "import tensorflow as tf\n",
    "print(tf.__version__)\n",
    "import numpy as np\n",
    "print(np.__version__)"
   ]
  },
  {
   "cell_type": "code",
   "execution_count": 2,
   "id": "71a32076-61fb-41ce-8886-335fbdc442cd",
   "metadata": {},
   "outputs": [],
   "source": [
    "#Forward pass returning linear predicitons\n",
    "def forward_pass(features,weights,bias):\n",
    "    weights_T = weights.transpose()\n",
    "    dot = np.dot(weights_T, features)\n",
    "    prediction = dot + bias\n",
    "    return prediction"
   ]
  },
  {
   "cell_type": "code",
   "execution_count": 3,
   "id": "f27c1b26-6813-4fdf-b99c-fd8a623d486e",
   "metadata": {},
   "outputs": [],
   "source": [
    "#Sigmoid function converting linear prediciton to sigmoid\n",
    "def sigmoid(linear_prediction):\n",
    "    return 1 / (1 + np.exp(-linear_prediction))"
   ]
  },
  {
   "cell_type": "code",
   "execution_count": 4,
   "id": "b1bb5811-4691-4e35-babb-b67b330056af",
   "metadata": {},
   "outputs": [],
   "source": [
    "#Cross-entropy loss function\n",
    "def loss(labels,sigmoid_pred):\n",
    "    return -(labels * np.log(sigmoid_pred) + (1 - labels) * np.log(1 - sigmoid_pred))"
   ]
  },
  {
   "cell_type": "code",
   "execution_count": 5,
   "id": "480ea053-76f2-4fa8-b166-1c2f83937278",
   "metadata": {},
   "outputs": [],
   "source": [
    "#Cost function \n",
    "def cost(loss_values):\n",
    "    return np.mean(loss_values)"
   ]
  },
  {
   "cell_type": "code",
   "execution_count": 6,
   "id": "6247e4b6-068b-464d-9a83-e0563c16c212",
   "metadata": {},
   "outputs": [],
   "source": [
    "#Absolute loss\n",
    "def absolute_loss(sigmoid_pred,labels):\n",
    "    return sigmoid_pred - labels"
   ]
  },
  {
   "cell_type": "code",
   "execution_count": 7,
   "id": "442bbb04-0144-4cdd-9c92-8d53e6903a8c",
   "metadata": {},
   "outputs": [],
   "source": [
    "#Error for weights\n",
    "def weight_error(features,abs_loss):\n",
    "    m = abs_loss.shape[0]\n",
    "    return np.dot(features.T, abs_loss) / m"
   ]
  },
  {
   "cell_type": "code",
   "execution_count": 8,
   "id": "a1e3cbe0-84b3-48e4-8dfb-54798b8d1c34",
   "metadata": {},
   "outputs": [],
   "source": [
    "#Error for bias\n",
    "def bias_error(abs_loss):\n",
    "    return np.mean(abs_loss)"
   ]
  },
  {
   "cell_type": "code",
   "execution_count": 9,
   "id": "c88f3474-23a3-42b2-a9a7-6b9b342bc949",
   "metadata": {},
   "outputs": [],
   "source": [
    "#Update weights\n",
    "def update_weights(learning_rate, weights, weight_error):\n",
    "    return weights - (learning_rate * weight_error)"
   ]
  },
  {
   "cell_type": "code",
   "execution_count": 10,
   "id": "407a36d4-ccfa-4f48-abcf-06669c582869",
   "metadata": {},
   "outputs": [],
   "source": [
    "#Update bias\n",
    "def update_bias(learning_rate, bias, bias_error):\n",
    "    return bias - (learning_rate * bias_error)"
   ]
  },
  {
   "cell_type": "code",
   "execution_count": 11,
   "id": "dba1ebd6-4aa4-4b60-b69d-2966d5282482",
   "metadata": {},
   "outputs": [],
   "source": [
    "#Logic for single iteration\n",
    "def gradient_decent(weights,bias,features,labels,learning_rate):\n",
    "    \n",
    "    #Forward pass\n",
    "    linear_pred = forward_pass(features,weights,bias)\n",
    "    sigmoid_pred = sigmoid(linear_pred)\n",
    "    \n",
    "    #Cost calculation\n",
    "    loss_vals = loss(labels,sigmoid_pred)\n",
    "    abs_loss = absolute_loss(sigmoid_pred,labels)\n",
    "    \n",
    "    #Gradient Decent\n",
    "    grad_weights = weight_error(features,abs_loss)\n",
    "    grad_bias = bias_error(abs_loss)\n",
    "    \n",
    "    #Update\n",
    "    weights = update_weights(learning_rate, weights, grad_weights)\n",
    "    bias = update_bias(learning_rate, bias, grad_bias)\n",
    "    current_cost = cost(loss_vals)\n",
    "\n",
    "    return weights, bias, current_cost"
   ]
  },
  {
   "cell_type": "code",
   "execution_count": null,
   "id": "43dd11f7-308e-4155-88f9-57d86ec38446",
   "metadata": {},
   "outputs": [],
   "source": [
    "#"
   ]
  },
  {
   "cell_type": "code",
   "execution_count": 12,
   "id": "d8a1b606-9e91-45dc-9ef7-09526ecf2bdf",
   "metadata": {},
   "outputs": [
    {
     "ename": "NameError",
     "evalue": "name 'weights' is not defined",
     "output_type": "error",
     "traceback": [
      "\u001b[1;31m---------------------------------------------------------------------------\u001b[0m",
      "\u001b[1;31mNameError\u001b[0m                                 Traceback (most recent call last)",
      "Cell \u001b[1;32mIn[12], line 6\u001b[0m\n\u001b[0;32m      3\u001b[0m learning_rate \u001b[38;5;241m=\u001b[39m \u001b[38;5;241m0.01\u001b[39m\n\u001b[0;32m      5\u001b[0m \u001b[38;5;28;01mfor\u001b[39;00m epoch \u001b[38;5;129;01min\u001b[39;00m \u001b[38;5;28mrange\u001b[39m(num_epochs):\n\u001b[1;32m----> 6\u001b[0m     weights, bias, epoch_cost \u001b[38;5;241m=\u001b[39m gradient_decent(\u001b[43mweights\u001b[49m, bias, features, labels, learning_rate)\n\u001b[0;32m      7\u001b[0m     \u001b[38;5;28mprint\u001b[39m(\u001b[38;5;124mf\u001b[39m\u001b[38;5;124m\"\u001b[39m\u001b[38;5;124mEpoch \u001b[39m\u001b[38;5;132;01m{\u001b[39;00mepoch\u001b[38;5;241m+\u001b[39m\u001b[38;5;241m1\u001b[39m\u001b[38;5;132;01m}\u001b[39;00m\u001b[38;5;124m, Cost: \u001b[39m\u001b[38;5;132;01m{\u001b[39;00mepoch_cost\u001b[38;5;132;01m}\u001b[39;00m\u001b[38;5;124m\"\u001b[39m)\n",
      "\u001b[1;31mNameError\u001b[0m: name 'weights' is not defined"
     ]
    }
   ],
   "source": [
    "#Iterative step (can be alterted to implement different types of gradient decent and alter hyperparamaters)\n",
    "num_epochs = 10\n",
    "learning_rate = 0.01\n",
    "\n",
    "for epoch in range(num_epochs):\n",
    "    weights, bias, epoch_cost = gradient_decent(weights, bias, features, labels, learning_rate)\n",
    "    print(f\"Epoch {epoch+1}, Cost: {epoch_cost}\")"
   ]
  }
 ],
 "metadata": {
  "kernelspec": {
   "display_name": "Python (tf)",
   "language": "python",
   "name": "tf"
  },
  "language_info": {
   "codemirror_mode": {
    "name": "ipython",
    "version": 3
   },
   "file_extension": ".py",
   "mimetype": "text/x-python",
   "name": "python",
   "nbconvert_exporter": "python",
   "pygments_lexer": "ipython3",
   "version": "3.9.23"
  }
 },
 "nbformat": 4,
 "nbformat_minor": 5
}
